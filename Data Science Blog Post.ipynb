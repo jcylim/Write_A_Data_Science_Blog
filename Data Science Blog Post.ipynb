{
 "cells": [
  {
   "cell_type": "markdown",
   "metadata": {},
   "source": [
    "# Data Scientist Nanodegree\n",
    "## Introduction to Data Science\n",
    "## Project: Write a Data Science Blog"
   ]
  },
  {
   "cell_type": "markdown",
   "metadata": {},
   "source": [
    "## Business Understanding\n",
    "\n",
    "In this project, the objective is to pick a dataset of your own choice and answer at least 3 questions related to business or real-world applications of how the data could be used. \n",
    "\n",
    "4 Questions To Be Answered:\n",
    "1. What time of the day do accidents happen more?\n",
    "2. What kind of weather is most likely to lead to accidents?\n",
    "3. How well can we predict an accident's severity? What factors correlate most to accidents' severity?\n",
    "4. How well can we predict the number of casualties in an accident? What factors correlate most to accidents' casualties?"
   ]
  },
  {
   "cell_type": "markdown",
   "metadata": {},
   "source": [
    "----\n",
    "## Data Understanding\n",
    "\n",
    "The dataset that I have prepared for this project, named \"accidents_2012_to_2014.csv\", is the traffic accident data amassed by the UK government from 2012-2014. To answer the 4 questions in interest, we would have to dive in deeper into the attributes/columns presented in the dataset.\n",
    "\n",
    "**Q:** What time of the day do accidents happen more?<br/>\n",
    "**Attribute(s):** \"Time\" <br/>\n",
    "**Q:** What kind of weather is most likely to lead to accidents?<br/>\n",
    "**Attribute(s):** \"Weather_Conditions\"<br/>\n",
    "**Q:** How well can we predict an accident's severity? What factors correlate most to accidents' severity?<br/>\n",
    "**Attribute(s):** Many<br/>\n",
    "**Q:** How well can we predict the number of casualties in an accident? What factors correlate most to accidents' casualties?<br/>\n",
    "**Attribute(s):** Many"
   ]
  },
  {
   "cell_type": "code",
   "execution_count": 2,
   "metadata": {},
   "outputs": [],
   "source": [
    "# Import libraries necessary for this project\n",
    "import numpy as np\n",
    "import pandas as pd\n",
    "import matplotlib.pyplot as plt\n",
    "from sklearn.linear_model import LinearRegression\n",
    "from sklearn.ensemble import AdaBoostClassifier, RandomForestClassifier\n",
    "from sklearn.model_selection import train_test_split, RandomizedSearchCV, cross_val_score\n",
    "from sklearn.metrics import r2_score, mean_squared_error, accuracy_score\n",
    "import seaborn as sns\n",
    "%matplotlib inline"
   ]
  },
  {
   "cell_type": "code",
   "execution_count": 3,
   "metadata": {},
   "outputs": [
    {
     "name": "stderr",
     "output_type": "stream",
     "text": [
      "C:\\Users\\jonat\\Anaconda3_64\\lib\\site-packages\\IPython\\core\\interactiveshell.py:2698: DtypeWarning: Columns (31) have mixed types. Specify dtype option on import or set low_memory=False.\n",
      "  interactivity=interactivity, compiler=compiler, result=result)\n"
     ]
    },
    {
     "data": {
      "text/html": [
       "<div>\n",
       "<style>\n",
       "    .dataframe thead tr:only-child th {\n",
       "        text-align: right;\n",
       "    }\n",
       "\n",
       "    .dataframe thead th {\n",
       "        text-align: left;\n",
       "    }\n",
       "\n",
       "    .dataframe tbody tr th {\n",
       "        vertical-align: top;\n",
       "    }\n",
       "</style>\n",
       "<table border=\"1\" class=\"dataframe\">\n",
       "  <thead>\n",
       "    <tr style=\"text-align: right;\">\n",
       "      <th></th>\n",
       "      <th>Accident_Index</th>\n",
       "      <th>Location_Easting_OSGR</th>\n",
       "      <th>Location_Northing_OSGR</th>\n",
       "      <th>Longitude</th>\n",
       "      <th>Latitude</th>\n",
       "      <th>Police_Force</th>\n",
       "      <th>Accident_Severity</th>\n",
       "      <th>Number_of_Vehicles</th>\n",
       "      <th>Number_of_Casualties</th>\n",
       "      <th>Date</th>\n",
       "      <th>...</th>\n",
       "      <th>Pedestrian_Crossing-Physical_Facilities</th>\n",
       "      <th>Light_Conditions</th>\n",
       "      <th>Weather_Conditions</th>\n",
       "      <th>Road_Surface_Conditions</th>\n",
       "      <th>Special_Conditions_at_Site</th>\n",
       "      <th>Carriageway_Hazards</th>\n",
       "      <th>Urban_or_Rural_Area</th>\n",
       "      <th>Did_Police_Officer_Attend_Scene_of_Accident</th>\n",
       "      <th>LSOA_of_Accident_Location</th>\n",
       "      <th>Year</th>\n",
       "    </tr>\n",
       "  </thead>\n",
       "  <tbody>\n",
       "    <tr>\n",
       "      <th>0</th>\n",
       "      <td>201201BS70001</td>\n",
       "      <td>527200</td>\n",
       "      <td>178760</td>\n",
       "      <td>-0.169101</td>\n",
       "      <td>51.493429</td>\n",
       "      <td>1</td>\n",
       "      <td>3</td>\n",
       "      <td>2</td>\n",
       "      <td>1</td>\n",
       "      <td>19/01/2012</td>\n",
       "      <td>...</td>\n",
       "      <td>Pedestrian phase at traffic signal junction</td>\n",
       "      <td>Darkness: Street lights present and lit</td>\n",
       "      <td>Fine without high winds</td>\n",
       "      <td>Dry</td>\n",
       "      <td>None</td>\n",
       "      <td>None</td>\n",
       "      <td>1</td>\n",
       "      <td>Yes</td>\n",
       "      <td>E01002821</td>\n",
       "      <td>2012</td>\n",
       "    </tr>\n",
       "    <tr>\n",
       "      <th>1</th>\n",
       "      <td>201201BS70002</td>\n",
       "      <td>524930</td>\n",
       "      <td>181430</td>\n",
       "      <td>-0.200838</td>\n",
       "      <td>51.517931</td>\n",
       "      <td>1</td>\n",
       "      <td>3</td>\n",
       "      <td>2</td>\n",
       "      <td>1</td>\n",
       "      <td>04/01/2012</td>\n",
       "      <td>...</td>\n",
       "      <td>No physical crossing within 50 meters</td>\n",
       "      <td>Darkness: Street lights present and lit</td>\n",
       "      <td>Fine without high winds</td>\n",
       "      <td>Dry</td>\n",
       "      <td>None</td>\n",
       "      <td>None</td>\n",
       "      <td>1</td>\n",
       "      <td>Yes</td>\n",
       "      <td>E01004760</td>\n",
       "      <td>2012</td>\n",
       "    </tr>\n",
       "    <tr>\n",
       "      <th>2</th>\n",
       "      <td>201201BS70003</td>\n",
       "      <td>525860</td>\n",
       "      <td>178080</td>\n",
       "      <td>-0.188636</td>\n",
       "      <td>51.487618</td>\n",
       "      <td>1</td>\n",
       "      <td>3</td>\n",
       "      <td>2</td>\n",
       "      <td>1</td>\n",
       "      <td>10/01/2012</td>\n",
       "      <td>...</td>\n",
       "      <td>non-junction pedestrian crossing</td>\n",
       "      <td>Daylight: Street light present</td>\n",
       "      <td>Fine without high winds</td>\n",
       "      <td>Dry</td>\n",
       "      <td>None</td>\n",
       "      <td>None</td>\n",
       "      <td>1</td>\n",
       "      <td>Yes</td>\n",
       "      <td>E01002893</td>\n",
       "      <td>2012</td>\n",
       "    </tr>\n",
       "    <tr>\n",
       "      <th>3</th>\n",
       "      <td>201201BS70004</td>\n",
       "      <td>524980</td>\n",
       "      <td>181030</td>\n",
       "      <td>-0.200259</td>\n",
       "      <td>51.514325</td>\n",
       "      <td>1</td>\n",
       "      <td>3</td>\n",
       "      <td>1</td>\n",
       "      <td>1</td>\n",
       "      <td>18/01/2012</td>\n",
       "      <td>...</td>\n",
       "      <td>No physical crossing within 50 meters</td>\n",
       "      <td>Daylight: Street light present</td>\n",
       "      <td>Fine without high winds</td>\n",
       "      <td>Dry</td>\n",
       "      <td>None</td>\n",
       "      <td>None</td>\n",
       "      <td>1</td>\n",
       "      <td>Yes</td>\n",
       "      <td>E01002886</td>\n",
       "      <td>2012</td>\n",
       "    </tr>\n",
       "    <tr>\n",
       "      <th>4</th>\n",
       "      <td>201201BS70005</td>\n",
       "      <td>526170</td>\n",
       "      <td>179200</td>\n",
       "      <td>-0.183773</td>\n",
       "      <td>51.497614</td>\n",
       "      <td>1</td>\n",
       "      <td>3</td>\n",
       "      <td>1</td>\n",
       "      <td>1</td>\n",
       "      <td>17/01/2012</td>\n",
       "      <td>...</td>\n",
       "      <td>No physical crossing within 50 meters</td>\n",
       "      <td>Darkness: Street lights present and lit</td>\n",
       "      <td>Fine without high winds</td>\n",
       "      <td>Dry</td>\n",
       "      <td>None</td>\n",
       "      <td>None</td>\n",
       "      <td>1</td>\n",
       "      <td>Yes</td>\n",
       "      <td>E01002890</td>\n",
       "      <td>2012</td>\n",
       "    </tr>\n",
       "  </tbody>\n",
       "</table>\n",
       "<p>5 rows × 33 columns</p>\n",
       "</div>"
      ],
      "text/plain": [
       "  Accident_Index  Location_Easting_OSGR  Location_Northing_OSGR  Longitude  \\\n",
       "0  201201BS70001                 527200                  178760  -0.169101   \n",
       "1  201201BS70002                 524930                  181430  -0.200838   \n",
       "2  201201BS70003                 525860                  178080  -0.188636   \n",
       "3  201201BS70004                 524980                  181030  -0.200259   \n",
       "4  201201BS70005                 526170                  179200  -0.183773   \n",
       "\n",
       "    Latitude  Police_Force  Accident_Severity  Number_of_Vehicles  \\\n",
       "0  51.493429             1                  3                   2   \n",
       "1  51.517931             1                  3                   2   \n",
       "2  51.487618             1                  3                   2   \n",
       "3  51.514325             1                  3                   1   \n",
       "4  51.497614             1                  3                   1   \n",
       "\n",
       "   Number_of_Casualties        Date  ...   \\\n",
       "0                     1  19/01/2012  ...    \n",
       "1                     1  04/01/2012  ...    \n",
       "2                     1  10/01/2012  ...    \n",
       "3                     1  18/01/2012  ...    \n",
       "4                     1  17/01/2012  ...    \n",
       "\n",
       "       Pedestrian_Crossing-Physical_Facilities  \\\n",
       "0  Pedestrian phase at traffic signal junction   \n",
       "1        No physical crossing within 50 meters   \n",
       "2             non-junction pedestrian crossing   \n",
       "3        No physical crossing within 50 meters   \n",
       "4        No physical crossing within 50 meters   \n",
       "\n",
       "                          Light_Conditions       Weather_Conditions  \\\n",
       "0  Darkness: Street lights present and lit  Fine without high winds   \n",
       "1  Darkness: Street lights present and lit  Fine without high winds   \n",
       "2           Daylight: Street light present  Fine without high winds   \n",
       "3           Daylight: Street light present  Fine without high winds   \n",
       "4  Darkness: Street lights present and lit  Fine without high winds   \n",
       "\n",
       "  Road_Surface_Conditions  Special_Conditions_at_Site  Carriageway_Hazards  \\\n",
       "0                     Dry                        None                 None   \n",
       "1                     Dry                        None                 None   \n",
       "2                     Dry                        None                 None   \n",
       "3                     Dry                        None                 None   \n",
       "4                     Dry                        None                 None   \n",
       "\n",
       "  Urban_or_Rural_Area  Did_Police_Officer_Attend_Scene_of_Accident  \\\n",
       "0                   1                                          Yes   \n",
       "1                   1                                          Yes   \n",
       "2                   1                                          Yes   \n",
       "3                   1                                          Yes   \n",
       "4                   1                                          Yes   \n",
       "\n",
       "   LSOA_of_Accident_Location  Year  \n",
       "0                  E01002821  2012  \n",
       "1                  E01004760  2012  \n",
       "2                  E01002893  2012  \n",
       "3                  E01002886  2012  \n",
       "4                  E01002890  2012  \n",
       "\n",
       "[5 rows x 33 columns]"
      ]
     },
     "execution_count": 3,
     "metadata": {},
     "output_type": "execute_result"
    }
   ],
   "source": [
    "data = pd.read_csv('./accidents_2012_to_2014.csv')\n",
    "data.head()"
   ]
  },
  {
   "cell_type": "code",
   "execution_count": 4,
   "metadata": {},
   "outputs": [
    {
     "data": {
      "image/png": "[encoded data removed]",
      "text/plain": [
       "<matplotlib.figure.Figure at 0x26153ce4860>"
      ]
     },
     "metadata": {
      "needs_background": "light"
     },
     "output_type": "display_data"
    }
   ],
   "source": [
    "# Count number of NaNs in each attribute\n",
    "null_number = data.isnull().sum()\n",
    "plt.figure(figsize=(15, 6))\n",
    "plt.title('Distribution of Number of NaNs in the Traffic Accident Dataset in Each Attribute')\n",
    "plt.hist(null_number / data.shape[0] * 100, bins=100)\n",
    "plt.xlabel('Percentage of Missing Data (%)')\n",
    "plt.ylabel('Count(s)')\n",
    "plt.show()"
   ]
  },
  {
   "cell_type": "markdown",
   "metadata": {},
   "source": [
    "----\n",
    "## Data Preparation\n",
    "\n",
    "This section is mainly for dropping and imputing the attributes in the dataset, so that the dataset we're dealing with contains only useful information that will help us with the analysis. "
   ]
  },
  {
   "cell_type": "code",
   "execution_count": 5,
   "metadata": {},
   "outputs": [
    {
     "name": "stdout",
     "output_type": "stream",
     "text": [
      "Attributes with equal to or under 1% of missing data: 30\n",
      "Attributes with over 1% of missing data: 3\n",
      "Attributes with missing data that exceeds 1%: \n",
      "Junction_Detail              100.000000\n",
      "Junction_Control              38.435798\n",
      "LSOA_of_Accident_Location      6.179941\n",
      "dtype: float64\n"
     ]
    }
   ],
   "source": [
    "# Peek at attributes with under and over 1% of missing values\n",
    "data_under_1 = (null_number / len(data) * 100) <= 1\n",
    "data_over_1 = (null_number / len(data) * 100) > 1\n",
    "attri_over_1 = null_number.loc[(null_number / data.shape[0] * 100) > 1]\n",
    "print(\"Attributes with equal to or under 1% of missing data: {}\".format(data_under_1.sum()))\n",
    "print(\"Attributes with over 1% of missing data: {}\".format(data_over_1.sum()))\n",
    "print(\"Attributes with missing data that exceeds 1%: \\n{}\".format(attri_over_1 / data.shape[0] * 100))"
   ]
  },
  {
   "cell_type": "code",
   "execution_count": 6,
   "metadata": {},
   "outputs": [
    {
     "data": {
      "text/html": [
       "<div>\n",
       "<style>\n",
       "    .dataframe thead tr:only-child th {\n",
       "        text-align: right;\n",
       "    }\n",
       "\n",
       "    .dataframe thead th {\n",
       "        text-align: left;\n",
       "    }\n",
       "\n",
       "    .dataframe tbody tr th {\n",
       "        vertical-align: top;\n",
       "    }\n",
       "</style>\n",
       "<table border=\"1\" class=\"dataframe\">\n",
       "  <thead>\n",
       "    <tr style=\"text-align: right;\">\n",
       "      <th></th>\n",
       "      <th>Accident_Index</th>\n",
       "      <th>Location_Easting_OSGR</th>\n",
       "      <th>Location_Northing_OSGR</th>\n",
       "      <th>Longitude</th>\n",
       "      <th>Latitude</th>\n",
       "      <th>Police_Force</th>\n",
       "      <th>Accident_Severity</th>\n",
       "      <th>Number_of_Vehicles</th>\n",
       "      <th>Number_of_Casualties</th>\n",
       "      <th>Date</th>\n",
       "      <th>...</th>\n",
       "      <th>Pedestrian_Crossing-Human_Control</th>\n",
       "      <th>Pedestrian_Crossing-Physical_Facilities</th>\n",
       "      <th>Light_Conditions</th>\n",
       "      <th>Weather_Conditions</th>\n",
       "      <th>Road_Surface_Conditions</th>\n",
       "      <th>Special_Conditions_at_Site</th>\n",
       "      <th>Carriageway_Hazards</th>\n",
       "      <th>Urban_or_Rural_Area</th>\n",
       "      <th>Did_Police_Officer_Attend_Scene_of_Accident</th>\n",
       "      <th>Year</th>\n",
       "    </tr>\n",
       "  </thead>\n",
       "  <tbody>\n",
       "    <tr>\n",
       "      <th>0</th>\n",
       "      <td>201201BS70001</td>\n",
       "      <td>527200</td>\n",
       "      <td>178760</td>\n",
       "      <td>-0.169101</td>\n",
       "      <td>51.493429</td>\n",
       "      <td>1</td>\n",
       "      <td>3</td>\n",
       "      <td>2</td>\n",
       "      <td>1</td>\n",
       "      <td>19/01/2012</td>\n",
       "      <td>...</td>\n",
       "      <td>None within 50 metres</td>\n",
       "      <td>Pedestrian phase at traffic signal junction</td>\n",
       "      <td>Darkness: Street lights present and lit</td>\n",
       "      <td>Fine without high winds</td>\n",
       "      <td>Dry</td>\n",
       "      <td>None</td>\n",
       "      <td>None</td>\n",
       "      <td>1</td>\n",
       "      <td>Yes</td>\n",
       "      <td>2012</td>\n",
       "    </tr>\n",
       "    <tr>\n",
       "      <th>1</th>\n",
       "      <td>201201BS70002</td>\n",
       "      <td>524930</td>\n",
       "      <td>181430</td>\n",
       "      <td>-0.200838</td>\n",
       "      <td>51.517931</td>\n",
       "      <td>1</td>\n",
       "      <td>3</td>\n",
       "      <td>2</td>\n",
       "      <td>1</td>\n",
       "      <td>04/01/2012</td>\n",
       "      <td>...</td>\n",
       "      <td>None within 50 metres</td>\n",
       "      <td>No physical crossing within 50 meters</td>\n",
       "      <td>Darkness: Street lights present and lit</td>\n",
       "      <td>Fine without high winds</td>\n",
       "      <td>Dry</td>\n",
       "      <td>None</td>\n",
       "      <td>None</td>\n",
       "      <td>1</td>\n",
       "      <td>Yes</td>\n",
       "      <td>2012</td>\n",
       "    </tr>\n",
       "    <tr>\n",
       "      <th>2</th>\n",
       "      <td>201201BS70003</td>\n",
       "      <td>525860</td>\n",
       "      <td>178080</td>\n",
       "      <td>-0.188636</td>\n",
       "      <td>51.487618</td>\n",
       "      <td>1</td>\n",
       "      <td>3</td>\n",
       "      <td>2</td>\n",
       "      <td>1</td>\n",
       "      <td>10/01/2012</td>\n",
       "      <td>...</td>\n",
       "      <td>None within 50 metres</td>\n",
       "      <td>non-junction pedestrian crossing</td>\n",
       "      <td>Daylight: Street light present</td>\n",
       "      <td>Fine without high winds</td>\n",
       "      <td>Dry</td>\n",
       "      <td>None</td>\n",
       "      <td>None</td>\n",
       "      <td>1</td>\n",
       "      <td>Yes</td>\n",
       "      <td>2012</td>\n",
       "    </tr>\n",
       "    <tr>\n",
       "      <th>3</th>\n",
       "      <td>201201BS70004</td>\n",
       "      <td>524980</td>\n",
       "      <td>181030</td>\n",
       "      <td>-0.200259</td>\n",
       "      <td>51.514325</td>\n",
       "      <td>1</td>\n",
       "      <td>3</td>\n",
       "      <td>1</td>\n",
       "      <td>1</td>\n",
       "      <td>18/01/2012</td>\n",
       "      <td>...</td>\n",
       "      <td>None within 50 metres</td>\n",
       "      <td>No physical crossing within 50 meters</td>\n",
       "      <td>Daylight: Street light present</td>\n",
       "      <td>Fine without high winds</td>\n",
       "      <td>Dry</td>\n",
       "      <td>None</td>\n",
       "      <td>None</td>\n",
       "      <td>1</td>\n",
       "      <td>Yes</td>\n",
       "      <td>2012</td>\n",
       "    </tr>\n",
       "    <tr>\n",
       "      <th>4</th>\n",
       "      <td>201201BS70005</td>\n",
       "      <td>526170</td>\n",
       "      <td>179200</td>\n",
       "      <td>-0.183773</td>\n",
       "      <td>51.497614</td>\n",
       "      <td>1</td>\n",
       "      <td>3</td>\n",
       "      <td>1</td>\n",
       "      <td>1</td>\n",
       "      <td>17/01/2012</td>\n",
       "      <td>...</td>\n",
       "      <td>None within 50 metres</td>\n",
       "      <td>No physical crossing within 50 meters</td>\n",
       "      <td>Darkness: Street lights present and lit</td>\n",
       "      <td>Fine without high winds</td>\n",
       "      <td>Dry</td>\n",
       "      <td>None</td>\n",
       "      <td>None</td>\n",
       "      <td>1</td>\n",
       "      <td>Yes</td>\n",
       "      <td>2012</td>\n",
       "    </tr>\n",
       "  </tbody>\n",
       "</table>\n",
       "<p>5 rows × 30 columns</p>\n",
       "</div>"
      ],
      "text/plain": [
       "  Accident_Index  Location_Easting_OSGR  Location_Northing_OSGR  Longitude  \\\n",
       "0  201201BS70001                 527200                  178760  -0.169101   \n",
       "1  201201BS70002                 524930                  181430  -0.200838   \n",
       "2  201201BS70003                 525860                  178080  -0.188636   \n",
       "3  201201BS70004                 524980                  181030  -0.200259   \n",
       "4  201201BS70005                 526170                  179200  -0.183773   \n",
       "\n",
       "    Latitude  Police_Force  Accident_Severity  Number_of_Vehicles  \\\n",
       "0  51.493429             1                  3                   2   \n",
       "1  51.517931             1                  3                   2   \n",
       "2  51.487618             1                  3                   2   \n",
       "3  51.514325             1                  3                   1   \n",
       "4  51.497614             1                  3                   1   \n",
       "\n",
       "   Number_of_Casualties        Date  ...   Pedestrian_Crossing-Human_Control  \\\n",
       "0                     1  19/01/2012  ...               None within 50 metres   \n",
       "1                     1  04/01/2012  ...               None within 50 metres   \n",
       "2                     1  10/01/2012  ...               None within 50 metres   \n",
       "3                     1  18/01/2012  ...               None within 50 metres   \n",
       "4                     1  17/01/2012  ...               None within 50 metres   \n",
       "\n",
       "       Pedestrian_Crossing-Physical_Facilities  \\\n",
       "0  Pedestrian phase at traffic signal junction   \n",
       "1        No physical crossing within 50 meters   \n",
       "2             non-junction pedestrian crossing   \n",
       "3        No physical crossing within 50 meters   \n",
       "4        No physical crossing within 50 meters   \n",
       "\n",
       "                          Light_Conditions       Weather_Conditions  \\\n",
       "0  Darkness: Street lights present and lit  Fine without high winds   \n",
       "1  Darkness: Street lights present and lit  Fine without high winds   \n",
       "2           Daylight: Street light present  Fine without high winds   \n",
       "3           Daylight: Street light present  Fine without high winds   \n",
       "4  Darkness: Street lights present and lit  Fine without high winds   \n",
       "\n",
       "   Road_Surface_Conditions  Special_Conditions_at_Site Carriageway_Hazards  \\\n",
       "0                      Dry                        None                None   \n",
       "1                      Dry                        None                None   \n",
       "2                      Dry                        None                None   \n",
       "3                      Dry                        None                None   \n",
       "4                      Dry                        None                None   \n",
       "\n",
       "   Urban_or_Rural_Area  Did_Police_Officer_Attend_Scene_of_Accident  Year  \n",
       "0                    1                                          Yes  2012  \n",
       "1                    1                                          Yes  2012  \n",
       "2                    1                                          Yes  2012  \n",
       "3                    1                                          Yes  2012  \n",
       "4                    1                                          Yes  2012  \n",
       "\n",
       "[5 rows x 30 columns]"
      ]
     },
     "execution_count": 6,
     "metadata": {},
     "output_type": "execute_result"
    }
   ],
   "source": [
    "# Use only attributes with less than 1% of missing values for analysis\n",
    "data = data.drop(['Junction_Detail', 'Junction_Control', 'LSOA_of_Accident_Location'], axis=1)\n",
    "data.head()"
   ]
  },
  {
   "cell_type": "code",
   "execution_count": 7,
   "metadata": {},
   "outputs": [
    {
     "data": {
      "image/png": "[encoded data removed]",
      "text/plain": [
       "<matplotlib.figure.Figure at 0x26154038588>"
      ]
     },
     "metadata": {
      "needs_background": "light"
     },
     "output_type": "display_data"
    }
   ],
   "source": [
    "# Plot distribution of missing data under 1% in each attribute\n",
    "new_null = data.isnull().sum()\n",
    "plt.figure(figsize=(15, 6))\n",
    "plt.title('Distribution of Number of NaNs in the Traffic Accident Dataset in Each Attribute Under 1%')\n",
    "plt.hist(new_null / data.shape[0] * 100, bins=100)\n",
    "plt.xlabel('Percentage of Missing Data (%)')\n",
    "plt.ylabel('Count(s)')\n",
    "plt.show()"
   ]
  },
  {
   "cell_type": "code",
   "execution_count": 8,
   "metadata": {},
   "outputs": [],
   "source": [
    "# Getting rid of rows that have missing values in attributes: \"Accident_Severity\", \"Number_of_Casualties\", \"Time\", and\n",
    "# \"Weather_Conditions\"\n",
    "data = data.dropna(subset=[\"Accident_Severity\", \"Number_of_Casualties\", \"Time\", \"Weather_Conditions\"])"
   ]
  },
  {
   "cell_type": "code",
   "execution_count": 9,
   "metadata": {},
   "outputs": [
    {
     "data": {
      "text/plain": [
       "(464684, 30)"
      ]
     },
     "execution_count": 9,
     "metadata": {},
     "output_type": "execute_result"
    }
   ],
   "source": [
    "data.shape"
   ]
  },
  {
   "cell_type": "code",
   "execution_count": 9,
   "metadata": {
    "scrolled": true
   },
   "outputs": [
    {
     "name": "stdout",
     "output_type": "stream",
     "text": [
      "Categorical Attributes: ['Accident_Index', 'Date', 'Time', 'Local_Authority_(Highway)', 'Road_Type', 'Pedestrian_Crossing-Human_Control', 'Pedestrian_Crossing-Physical_Facilities', 'Light_Conditions', 'Weather_Conditions', 'Road_Surface_Conditions', 'Special_Conditions_at_Site', 'Carriageway_Hazards', 'Did_Police_Officer_Attend_Scene_of_Accident']\n",
      "# of Categorical Attributes: 13\n",
      "Numeric Attributes: ['Location_Easting_OSGR', 'Location_Northing_OSGR', 'Longitude', 'Latitude', 'Police_Force', 'Accident_Severity', 'Number_of_Vehicles', 'Number_of_Casualties', 'Day_of_Week', 'Local_Authority_(District)', '1st_Road_Class', '1st_Road_Number', 'Speed_limit', '2nd_Road_Class', '2nd_Road_Number', 'Urban_or_Rural_Area', 'Year']\n",
      "# of Numeric Attributes: 17\n"
     ]
    }
   ],
   "source": [
    "# Figure out what kind of data each attribute contains\n",
    "cat_df = data.select_dtypes(include=['object']).copy()\n",
    "num_df = data.select_dtypes(include=['int64', 'float64']).copy()\n",
    "print(\"Categorical Attributes:\", list(cat_df.columns))\n",
    "print(\"# of Categorical Attributes:\", len(cat_df.columns))\n",
    "print(\"Numeric Attributes:\", list(num_df.columns))\n",
    "print(\"# of Numeric Attributes:\", len(num_df.columns))"
   ]
  },
  {
   "cell_type": "code",
   "execution_count": 10,
   "metadata": {},
   "outputs": [],
   "source": [
    "# Get rid of rows with 'Unknown' value for 'Road_Type' and 'Weather_Conditions' attributes\n",
    "data = data.loc[data['Road_Type'] != 'Unknown']\n",
    "data = data.loc[data['Weather_Conditions'] != 'Unknown']"
   ]
  },
  {
   "cell_type": "code",
   "execution_count": 11,
   "metadata": {},
   "outputs": [],
   "source": [
    "# Dropping categorical attributes that won't help with the analysis\n",
    "new_data = data.drop(['Accident_Index', 'Local_Authority_(Highway)', 'Date', 'Did_Police_Officer_Attend_Scene_of_Accident', 'Local_Authority_(District)'], axis=1)\n",
    "cat_df = cat_df.drop(['Accident_Index', 'Local_Authority_(Highway)', 'Date', 'Time', 'Did_Police_Officer_Attend_Scene_of_Accident'], axis=1)\n",
    "num_df = num_df.drop(['Local_Authority_(District)'], axis=1)"
   ]
  },
  {
   "cell_type": "code",
   "execution_count": 12,
   "metadata": {},
   "outputs": [],
   "source": [
    "# Converting 'Time' to int by flooring the time for better training\n",
    "new_data[\"Time\"] = new_data[\"Time\"].astype(str)\n",
    "new_data['Time'] = new_data['Time'].str.slice(0, 2, 1)\n",
    "new_data[\"Time\"] = new_data[\"Time\"].astype(int)"
   ]
  },
  {
   "cell_type": "code",
   "execution_count": 13,
   "metadata": {},
   "outputs": [
    {
     "data": {
      "text/plain": [
       "0    20\n",
       "1    17\n",
       "2    10\n",
       "3    12\n",
       "4    20\n",
       "Name: Time, dtype: int32"
      ]
     },
     "execution_count": 13,
     "metadata": {},
     "output_type": "execute_result"
    }
   ],
   "source": [
    "new_data['Time'].head()"
   ]
  },
  {
   "cell_type": "code",
   "execution_count": 14,
   "metadata": {},
   "outputs": [],
   "source": [
    "# Imputation for missing values by computing mode of each attribute\n",
    "for col in cat_df.columns:\n",
    "    new_data[col].fillna((new_data[col].mode()[0]), inplace=True)\n",
    "\n",
    "# Imputation for categorical attributes by creating dummy variables for each attribute\n",
    "for col in cat_df.columns:\n",
    "    try:\n",
    "        new_data = pd.concat([new_data.drop(col, axis=1), pd.get_dummies(new_data[col], prefix=col, prefix_sep='_', drop_first=True, dummy_na=False)], axis=1)\n",
    "    except Exception as e:\n",
    "        print(e)\n",
    "\n",
    "# Imputation for missing values in numeric attributes by computing mean of each attribute\n",
    "for col in num_df.columns:\n",
    "    new_data[col].fillna((new_data[col].mean()), inplace=True)"
   ]
  },
  {
   "cell_type": "code",
   "execution_count": 15,
   "metadata": {},
   "outputs": [
    {
     "data": {
      "text/html": [
       "<div>\n",
       "<style>\n",
       "    .dataframe thead tr:only-child th {\n",
       "        text-align: right;\n",
       "    }\n",
       "\n",
       "    .dataframe thead th {\n",
       "        text-align: left;\n",
       "    }\n",
       "\n",
       "    .dataframe tbody tr th {\n",
       "        vertical-align: top;\n",
       "    }\n",
       "</style>\n",
       "<table border=\"1\" class=\"dataframe\">\n",
       "  <thead>\n",
       "    <tr style=\"text-align: right;\">\n",
       "      <th></th>\n",
       "      <th>Location_Easting_OSGR</th>\n",
       "      <th>Location_Northing_OSGR</th>\n",
       "      <th>Longitude</th>\n",
       "      <th>Latitude</th>\n",
       "      <th>Police_Force</th>\n",
       "      <th>Accident_Severity</th>\n",
       "      <th>Number_of_Vehicles</th>\n",
       "      <th>Number_of_Casualties</th>\n",
       "      <th>Day_of_Week</th>\n",
       "      <th>Time</th>\n",
       "      <th>...</th>\n",
       "      <th>Special_Conditions_at_Site_None</th>\n",
       "      <th>Special_Conditions_at_Site_Ol or diesel</th>\n",
       "      <th>Special_Conditions_at_Site_Permanent sign or marking defective or obscured</th>\n",
       "      <th>Special_Conditions_at_Site_Road surface defective</th>\n",
       "      <th>Special_Conditions_at_Site_Roadworks</th>\n",
       "      <th>Carriageway_Hazards_Dislodged vehicle load in carriageway</th>\n",
       "      <th>Carriageway_Hazards_Involvement with previous accident</th>\n",
       "      <th>Carriageway_Hazards_None</th>\n",
       "      <th>Carriageway_Hazards_Other object in carriageway</th>\n",
       "      <th>Carriageway_Hazards_Pedestrian in carriageway (not injured)</th>\n",
       "    </tr>\n",
       "  </thead>\n",
       "  <tbody>\n",
       "    <tr>\n",
       "      <th>0</th>\n",
       "      <td>527200</td>\n",
       "      <td>178760</td>\n",
       "      <td>-0.169101</td>\n",
       "      <td>51.493429</td>\n",
       "      <td>1</td>\n",
       "      <td>3</td>\n",
       "      <td>2</td>\n",
       "      <td>1</td>\n",
       "      <td>5</td>\n",
       "      <td>20</td>\n",
       "      <td>...</td>\n",
       "      <td>1</td>\n",
       "      <td>0</td>\n",
       "      <td>0</td>\n",
       "      <td>0</td>\n",
       "      <td>0</td>\n",
       "      <td>0</td>\n",
       "      <td>0</td>\n",
       "      <td>1</td>\n",
       "      <td>0</td>\n",
       "      <td>0</td>\n",
       "    </tr>\n",
       "    <tr>\n",
       "      <th>1</th>\n",
       "      <td>524930</td>\n",
       "      <td>181430</td>\n",
       "      <td>-0.200838</td>\n",
       "      <td>51.517931</td>\n",
       "      <td>1</td>\n",
       "      <td>3</td>\n",
       "      <td>2</td>\n",
       "      <td>1</td>\n",
       "      <td>4</td>\n",
       "      <td>17</td>\n",
       "      <td>...</td>\n",
       "      <td>1</td>\n",
       "      <td>0</td>\n",
       "      <td>0</td>\n",
       "      <td>0</td>\n",
       "      <td>0</td>\n",
       "      <td>0</td>\n",
       "      <td>0</td>\n",
       "      <td>1</td>\n",
       "      <td>0</td>\n",
       "      <td>0</td>\n",
       "    </tr>\n",
       "    <tr>\n",
       "      <th>2</th>\n",
       "      <td>525860</td>\n",
       "      <td>178080</td>\n",
       "      <td>-0.188636</td>\n",
       "      <td>51.487618</td>\n",
       "      <td>1</td>\n",
       "      <td>3</td>\n",
       "      <td>2</td>\n",
       "      <td>1</td>\n",
       "      <td>3</td>\n",
       "      <td>10</td>\n",
       "      <td>...</td>\n",
       "      <td>1</td>\n",
       "      <td>0</td>\n",
       "      <td>0</td>\n",
       "      <td>0</td>\n",
       "      <td>0</td>\n",
       "      <td>0</td>\n",
       "      <td>0</td>\n",
       "      <td>1</td>\n",
       "      <td>0</td>\n",
       "      <td>0</td>\n",
       "    </tr>\n",
       "    <tr>\n",
       "      <th>3</th>\n",
       "      <td>524980</td>\n",
       "      <td>181030</td>\n",
       "      <td>-0.200259</td>\n",
       "      <td>51.514325</td>\n",
       "      <td>1</td>\n",
       "      <td>3</td>\n",
       "      <td>1</td>\n",
       "      <td>1</td>\n",
       "      <td>4</td>\n",
       "      <td>12</td>\n",
       "      <td>...</td>\n",
       "      <td>1</td>\n",
       "      <td>0</td>\n",
       "      <td>0</td>\n",
       "      <td>0</td>\n",
       "      <td>0</td>\n",
       "      <td>0</td>\n",
       "      <td>0</td>\n",
       "      <td>1</td>\n",
       "      <td>0</td>\n",
       "      <td>0</td>\n",
       "    </tr>\n",
       "    <tr>\n",
       "      <th>4</th>\n",
       "      <td>526170</td>\n",
       "      <td>179200</td>\n",
       "      <td>-0.183773</td>\n",
       "      <td>51.497614</td>\n",
       "      <td>1</td>\n",
       "      <td>3</td>\n",
       "      <td>1</td>\n",
       "      <td>1</td>\n",
       "      <td>3</td>\n",
       "      <td>20</td>\n",
       "      <td>...</td>\n",
       "      <td>1</td>\n",
       "      <td>0</td>\n",
       "      <td>0</td>\n",
       "      <td>0</td>\n",
       "      <td>0</td>\n",
       "      <td>0</td>\n",
       "      <td>0</td>\n",
       "      <td>1</td>\n",
       "      <td>0</td>\n",
       "      <td>0</td>\n",
       "    </tr>\n",
       "  </tbody>\n",
       "</table>\n",
       "<p>5 rows × 55 columns</p>\n",
       "</div>"
      ],
      "text/plain": [
       "   Location_Easting_OSGR  Location_Northing_OSGR  Longitude   Latitude  \\\n",
       "0                 527200                  178760  -0.169101  51.493429   \n",
       "1                 524930                  181430  -0.200838  51.517931   \n",
       "2                 525860                  178080  -0.188636  51.487618   \n",
       "3                 524980                  181030  -0.200259  51.514325   \n",
       "4                 526170                  179200  -0.183773  51.497614   \n",
       "\n",
       "   Police_Force  Accident_Severity  Number_of_Vehicles  Number_of_Casualties  \\\n",
       "0             1                  3                   2                     1   \n",
       "1             1                  3                   2                     1   \n",
       "2             1                  3                   2                     1   \n",
       "3             1                  3                   1                     1   \n",
       "4             1                  3                   1                     1   \n",
       "\n",
       "   Day_of_Week  Time  \\\n",
       "0            5    20   \n",
       "1            4    17   \n",
       "2            3    10   \n",
       "3            4    12   \n",
       "4            3    20   \n",
       "\n",
       "                              ...                               \\\n",
       "0                             ...                                \n",
       "1                             ...                                \n",
       "2                             ...                                \n",
       "3                             ...                                \n",
       "4                             ...                                \n",
       "\n",
       "   Special_Conditions_at_Site_None  Special_Conditions_at_Site_Ol or diesel  \\\n",
       "0                                1                                        0   \n",
       "1                                1                                        0   \n",
       "2                                1                                        0   \n",
       "3                                1                                        0   \n",
       "4                                1                                        0   \n",
       "\n",
       "   Special_Conditions_at_Site_Permanent sign or marking defective or obscured  \\\n",
       "0                                                  0                            \n",
       "1                                                  0                            \n",
       "2                                                  0                            \n",
       "3                                                  0                            \n",
       "4                                                  0                            \n",
       "\n",
       "   Special_Conditions_at_Site_Road surface defective  \\\n",
       "0                                                  0   \n",
       "1                                                  0   \n",
       "2                                                  0   \n",
       "3                                                  0   \n",
       "4                                                  0   \n",
       "\n",
       "   Special_Conditions_at_Site_Roadworks  \\\n",
       "0                                     0   \n",
       "1                                     0   \n",
       "2                                     0   \n",
       "3                                     0   \n",
       "4                                     0   \n",
       "\n",
       "   Carriageway_Hazards_Dislodged vehicle load in carriageway  \\\n",
       "0                                                  0           \n",
       "1                                                  0           \n",
       "2                                                  0           \n",
       "3                                                  0           \n",
       "4                                                  0           \n",
       "\n",
       "   Carriageway_Hazards_Involvement with previous accident  \\\n",
       "0                                                  0        \n",
       "1                                                  0        \n",
       "2                                                  0        \n",
       "3                                                  0        \n",
       "4                                                  0        \n",
       "\n",
       "   Carriageway_Hazards_None  Carriageway_Hazards_Other object in carriageway  \\\n",
       "0                         1                                                0   \n",
       "1                         1                                                0   \n",
       "2                         1                                                0   \n",
       "3                         1                                                0   \n",
       "4                         1                                                0   \n",
       "\n",
       "   Carriageway_Hazards_Pedestrian in carriageway (not injured)  \n",
       "0                                                  0            \n",
       "1                                                  0            \n",
       "2                                                  0            \n",
       "3                                                  0            \n",
       "4                                                  0            \n",
       "\n",
       "[5 rows x 55 columns]"
      ]
     },
     "execution_count": 15,
     "metadata": {},
     "output_type": "execute_result"
    }
   ],
   "source": [
    "new_data.head()"
   ]
  },
  {
   "cell_type": "code",
   "execution_count": 16,
   "metadata": {},
   "outputs": [
    {
     "name": "stdout",
     "output_type": "stream",
     "text": [
      "Every attribute contains no missing values!\n"
     ]
    }
   ],
   "source": [
    "# Check if any attribute contains missing values\n",
    "if (new_data.isnull().sum().sum() == 0):\n",
    "    print(\"Every attribute contains no missing values!\")\n",
    "else:\n",
    "    print(new_data.isnull().sum().sum())\n",
    "    print(\"Make sure attributes don't have missing values for analysis.\")"
   ]
  },
  {
   "cell_type": "code",
   "execution_count": 17,
   "metadata": {},
   "outputs": [
    {
     "name": "stdout",
     "output_type": "stream",
     "text": [
      "<class 'pandas.core.frame.DataFrame'>\n",
      "Int64Index: 455016 entries, 0 to 464696\n",
      "Data columns (total 55 columns):\n",
      "Location_Easting_OSGR                                                                  455016 non-null int64\n",
      "Location_Northing_OSGR                                                                 455016 non-null int64\n",
      "Longitude                                                                              455016 non-null float64\n",
      "Latitude                                                                               455016 non-null float64\n",
      "Police_Force                                                                           455016 non-null int64\n",
      "Accident_Severity                                                                      455016 non-null int64\n",
      "Number_of_Vehicles                                                                     455016 non-null int64\n",
      "Number_of_Casualties                                                                   455016 non-null int64\n",
      "Day_of_Week                                                                            455016 non-null int64\n",
      "Time                                                                                   455016 non-null int32\n",
      "1st_Road_Class                                                                         455016 non-null int64\n",
      "1st_Road_Number                                                                        455016 non-null int64\n",
      "Speed_limit                                                                            455016 non-null int64\n",
      "2nd_Road_Class                                                                         455016 non-null int64\n",
      "2nd_Road_Number                                                                        455016 non-null int64\n",
      "Urban_or_Rural_Area                                                                    455016 non-null int64\n",
      "Year                                                                                   455016 non-null int64\n",
      "Road_Type_One way street                                                               455016 non-null uint8\n",
      "Road_Type_Roundabout                                                                   455016 non-null uint8\n",
      "Road_Type_Single carriageway                                                           455016 non-null uint8\n",
      "Road_Type_Slip road                                                                    455016 non-null uint8\n",
      "Pedestrian_Crossing-Human_Control_Control by school crossing patrol                    455016 non-null uint8\n",
      "Pedestrian_Crossing-Human_Control_None within 50 metres                                455016 non-null uint8\n",
      "Pedestrian_Crossing-Physical_Facilities_Footbridge or subway                           455016 non-null uint8\n",
      "Pedestrian_Crossing-Physical_Facilities_No physical crossing within 50 meters          455016 non-null uint8\n",
      "Pedestrian_Crossing-Physical_Facilities_Pedestrian phase at traffic signal junction    455016 non-null uint8\n",
      "Pedestrian_Crossing-Physical_Facilities_Zebra crossing                                 455016 non-null uint8\n",
      "Pedestrian_Crossing-Physical_Facilities_non-junction pedestrian crossing               455016 non-null uint8\n",
      "Light_Conditions_Darkness: Street lighting unknown                                     455016 non-null uint8\n",
      "Light_Conditions_Darkness: Street lights present and lit                               455016 non-null uint8\n",
      "Light_Conditions_Darkness: Street lights present but unlit                             455016 non-null uint8\n",
      "Light_Conditions_Daylight: Street light present                                        455016 non-null uint8\n",
      "Weather_Conditions_Fine without high winds                                             455016 non-null uint8\n",
      "Weather_Conditions_Fog or mist                                                         455016 non-null uint8\n",
      "Weather_Conditions_Other                                                               455016 non-null uint8\n",
      "Weather_Conditions_Raining with high winds                                             455016 non-null uint8\n",
      "Weather_Conditions_Raining without high winds                                          455016 non-null uint8\n",
      "Weather_Conditions_Snowing with high winds                                             455016 non-null uint8\n",
      "Weather_Conditions_Snowing without high winds                                          455016 non-null uint8\n",
      "Road_Surface_Conditions_Flood (Over 3cm of water)                                      455016 non-null uint8\n",
      "Road_Surface_Conditions_Frost/Ice                                                      455016 non-null uint8\n",
      "Road_Surface_Conditions_Snow                                                           455016 non-null uint8\n",
      "Road_Surface_Conditions_Wet/Damp                                                       455016 non-null uint8\n",
      "Special_Conditions_at_Site_Auto traffic singal out                                     455016 non-null uint8\n",
      "Special_Conditions_at_Site_Mud                                                         455016 non-null uint8\n",
      "Special_Conditions_at_Site_None                                                        455016 non-null uint8\n",
      "Special_Conditions_at_Site_Ol or diesel                                                455016 non-null uint8\n",
      "Special_Conditions_at_Site_Permanent sign or marking defective or obscured             455016 non-null uint8\n",
      "Special_Conditions_at_Site_Road surface defective                                      455016 non-null uint8\n",
      "Special_Conditions_at_Site_Roadworks                                                   455016 non-null uint8\n",
      "Carriageway_Hazards_Dislodged vehicle load in carriageway                              455016 non-null uint8\n",
      "Carriageway_Hazards_Involvement with previous accident                                 455016 non-null uint8\n",
      "Carriageway_Hazards_None                                                               455016 non-null uint8\n",
      "Carriageway_Hazards_Other object in carriageway                                        455016 non-null uint8\n",
      "Carriageway_Hazards_Pedestrian in carriageway (not injured)                            455016 non-null uint8\n",
      "dtypes: float64(2), int32(1), int64(14), uint8(38)\n",
      "memory usage: 77.2 MB\n"
     ]
    }
   ],
   "source": [
    "new_data.info()"
   ]
  },
  {
   "cell_type": "markdown",
   "metadata": {},
   "source": [
    "----\n",
    "## Model Data\n",
    "\n",
    "In this section, I will make use of various data analysis techniques to answer the 4 questions in interest.  "
   ]
  },
  {
   "cell_type": "markdown",
   "metadata": {},
   "source": [
    "### Question 1\n"
   ]
  },
  {
   "cell_type": "code",
   "execution_count": 18,
   "metadata": {},
   "outputs": [
    {
     "data": {
      "image/png": "[encoded data removed]",
      "text/plain": [
       "<matplotlib.figure.Figure at 0x1a31730c358>"
      ]
     },
     "metadata": {
      "needs_background": "light"
     },
     "output_type": "display_data"
    }
   ],
   "source": [
    "# Q: What time of the day do accidents happen more?\n",
    "fig, ax = plt.subplots(figsize=(15, 6))\n",
    "ax = sns.countplot(data['Time'])"
   ]
  },
  {
   "cell_type": "code",
   "execution_count": 37,
   "metadata": {},
   "outputs": [
    {
     "data": {
      "image/png": "[encoded data removed]",
      "text/plain": [
       "<matplotlib.figure.Figure at 0x1a317bf6b00>"
      ]
     },
     "metadata": {
      "needs_background": "light"
     },
     "output_type": "display_data"
    }
   ],
   "source": [
    "fig, ax = plt.subplots(figsize=(15, 6))\n",
    "ax = sns.countplot(new_data['Time'])"
   ]
  },
  {
   "cell_type": "code",
   "execution_count": 179,
   "metadata": {},
   "outputs": [],
   "source": [
    "# Select only the times that have equal to or over 3000 counts\n",
    "over_3000 = data['Time'].value_counts() >= 3000\n",
    "attri_over_3000 = over_3000[over_3000 == True]"
   ]
  },
  {
   "cell_type": "code",
   "execution_count": 180,
   "metadata": {},
   "outputs": [
    {
     "data": {
      "text/plain": [
       "17:00    True\n",
       "17:30    True\n",
       "18:00    True\n",
       "16:00    True\n",
       "15:30    True\n",
       "16:30    True\n",
       "15:00    True\n",
       "08:30    True\n",
       "18:30    True\n",
       "13:00    True\n",
       "14:00    True\n",
       "Name: Time, dtype: bool"
      ]
     },
     "execution_count": 180,
     "metadata": {},
     "output_type": "execute_result"
    }
   ],
   "source": [
    "attri_over_3000"
   ]
  },
  {
   "cell_type": "markdown",
   "metadata": {},
   "source": [
    "### Answer for Question 1\n",
    "As seen from the list above, there are a total of 12 time periods that have equal to or over 3000 recorded accident counts. Thus, the answer to the question about what time in the day do accidents happen more is mainly between 3 to 6pm. The analysis makes sense because 3 to 6pm is usually the prime rush hour period, and so it is more likely to have led to accidents.  "
   ]
  },
  {
   "cell_type": "markdown",
   "metadata": {},
   "source": [
    "### Question 2"
   ]
  },
  {
   "cell_type": "code",
   "execution_count": 201,
   "metadata": {},
   "outputs": [
    {
     "data": {
      "image/png": "[encoded data removed]",
      "text/plain": [
       "<matplotlib.figure.Figure at 0x1fb353c1a90>"
      ]
     },
     "metadata": {
      "needs_background": "light"
     },
     "output_type": "display_data"
    }
   ],
   "source": [
    "# Q: What kind of weather is most likely to lead to accidents?\n",
    "fig, ax = plt.subplots(figsize=(15, 6))\n",
    "ax = sns.countplot(y='Weather_Conditions', data=data)"
   ]
  },
  {
   "cell_type": "markdown",
   "metadata": {},
   "source": [
    "### Answer for Question 2\n",
    "From the bar graph above, we can see how the kind of weather that would most likely lead to accidents is a fine weather without any high winds, which is followed by a rainy weather without high winds. From this analysis, we have gained an useful insight that weather conditions don't seem to contribute much to the rate of accidents, because most accidents happen during a good weather according to the accident data collected.    "
   ]
  },
  {
   "cell_type": "markdown",
   "metadata": {},
   "source": [
    "### Question 3"
   ]
  },
  {
   "cell_type": "code",
   "execution_count": 141,
   "metadata": {},
   "outputs": [],
   "source": [
    "# Function used to fit data to a linear regression model for prediction\n",
    "def fit_and_pred(df, res_col, test_size=.3, rand_state=42):\n",
    "    X = df.drop(res_col, axis=1)\n",
    "    y = df[res_col]\n",
    "    \n",
    "    X_train, X_test, y_train, y_test = train_test_split(X, y, test_size=test_size, random_state=rand_state)\n",
    "    data = [X_train, X_test, y_train, y_test]\n",
    "    \n",
    "    # AdaBoostClassifier\n",
    "    ada_clf = AdaBoostClassifier()\n",
    "    param_dist = {\"n_estimators\": [10, 100, 200, 400],\n",
    "              \"learning_rate\": [0.001, 0.005, .01, 0.05, 0.1, 0.2, 0.3, 0.4, 0.5, 1, 2, 10, 20]}\n",
    "    random_search_ada = RandomizedSearchCV(ada_clf, param_distributions=param_dist)\n",
    "    random_search_ada.fit(X_train, y_train)\n",
    "    ada_preds = random_search_ada.best_estimator_.predict(X_test)\n",
    "    \n",
    "    # RandomForestClassifier\n",
    "    rf_clf = RandomForestClassifier()\n",
    "    param_dist = {\"max_depth\": [3, None],\n",
    "                  \"n_estimators\": list(range(10, 200)),\n",
    "                  \"max_features\": list(range(1, X_test.shape[1]+1)),\n",
    "                  \"min_samples_split\": list(range(2, 11)),\n",
    "                  \"min_samples_leaf\": list(range(1, 11)),\n",
    "                  \"bootstrap\": [True, False],\n",
    "                  \"criterion\": [\"gini\", \"entropy\"]}\n",
    "    random_search_rf = RandomizedSearchCV(rf_clf, param_distributions=param_dist)\n",
    "    random_search_rf.fit(X_train, y_train)\n",
    "    rf_preds = random_search_rf.best_estimator_.predict(X_test)\n",
    "    \n",
    "    return ada_clf, rf_clf, random_search_ada, random_search_rf, ada_preds, rf_preds, X_train, y_test, X, y"
   ]
  },
  {
   "cell_type": "code",
   "execution_count": 147,
   "metadata": {},
   "outputs": [],
   "source": [
    "# Calculate accuracy and cross validation scores\n",
    "def accuracy_cv_score(ada_clf, rf_clf, ada_preds, rf_preds, y_test, X, y, cv=3):\n",
    "    # Accuracy Score\n",
    "    ada_accu = accuracy_score(y_test, ada_preds)\n",
    "    rf_accu = accuracy_score(y_test, rf_preds)\n",
    "    print(\"Accuracy score for AdaBoost is {}.\\nAccuracy score for RandomForest is {}.\\n\".format(ada_accu, rf_accu))\n",
    "    \n",
    "    # CV Score\n",
    "    ada_cv = cross_val_score(ada_clf, X, y, cv=cv)\n",
    "    rf_cv = cross_val_score(rf_clf, X, y, cv=cv)\n",
    "    print(\"CV scores for AdaBoost are {}.\\nCV scores for RandomForest are {}.\".format(ada_cv, rf_cv))\n",
    "    print(\"Mean CV score for AdaBoost is {}.\\nMean CV score for RandomForest is {}.\".format(np.mean(ada_cv), \n",
    "                                                                                                    np.mean(rf_cv)))"
   ]
  },
  {
   "cell_type": "code",
   "execution_count": 156,
   "metadata": {},
   "outputs": [],
   "source": [
    "# Function for calculating attributes' weights\n",
    "def feature_weights(rs, X_train, num_of_attri=8):\n",
    "    features = X_train.columns[:X_train.shape[1]]\n",
    "    weights = rs.best_estimator_.feature_importances_\n",
    "    indices = np.argsort(weights)\n",
    "    \n",
    "    fig, ax = plt.subplots(figsize=(15, 6))\n",
    "    plt.title(\"Top {} Features' Weights\".format(num_of_attri))\n",
    "    plt.barh(range(len(indices[::-1][num_of_attri-1::-1])), weights[indices[::-1][num_of_attri-1::-1]], color='b', \n",
    "             align='center')\n",
    "    plt.yticks(range(len(indices[::-1][num_of_attri-1::-1])), features[indices[::-1][num_of_attri-1::-1]])\n",
    "    plt.xlabel('Relative Weights')"
   ]
  },
  {
   "cell_type": "code",
   "execution_count": 146,
   "metadata": {},
   "outputs": [],
   "source": [
    "# Q: How well can we predict an accident's severity? What factors correlate most to accidents' severity?\n",
    "ada_clf, rf_clf, rs_ada, rs_rf, ada_preds, rf_preds, X_train, y_test, X, y = fit_and_pred(new_data, 'Accident_Severity')"
   ]
  },
  {
   "cell_type": "code",
   "execution_count": 158,
   "metadata": {},
   "outputs": [
    {
     "name": "stdout",
     "output_type": "stream",
     "text": [
      "Accuracy score for AdaBoost is 0.8446357276290246.\n",
      "Accuracy score for RandomForest is 0.8533240540639537.\n",
      "\n",
      "CV scores for AdaBoost are [ 0.84422834  0.84409648  0.84417925  0.84409134  0.8442232 ].\n",
      "CV scores for RandomForest are [ 0.76396901  0.80863689  0.81988308  0.82826751  0.59243753].\n",
      "Mean CV score for AdaBoost is 0.8441637217325949.\n",
      "Mean CV score for RandomForest is 0.7626388039434246.\n"
     ]
    }
   ],
   "source": [
    "# Default cv = 3\n",
    "accuracy_cv_score(ada_clf, rf_clf, ada_preds, rf_preds, y_test, X, y, cv=5)"
   ]
  },
  {
   "cell_type": "code",
   "execution_count": 159,
   "metadata": {},
   "outputs": [
    {
     "data": {
      "image/png": "[encoded data removed]",
      "text/plain": [
       "<matplotlib.figure.Figure at 0x1a318b14748>"
      ]
     },
     "metadata": {
      "needs_background": "light"
     },
     "output_type": "display_data"
    }
   ],
   "source": [
    "# Choosing AdaBoostClassifier as model\n",
    "# Default num_of_attri = 8\n",
    "feature_weights(rs_ada, X_train)"
   ]
  },
  {
   "cell_type": "markdown",
   "metadata": {},
   "source": [
    "### Answer for Question 3\n",
    "I chose adaboost and random forest classifier as the two classifiers to predict and determine the severity of the accidents. After performing randomized grid search on the two classifiers, adaboost achieved the higher cross validation score of 84% but lower accuracy score of 84%, whereas random forest achieved a cross validation and accuracy score of 76% and 85% respectively. I chose to use adaboost as my classifier since it has more consistent score values. From the bar graph above, we can see how that the top three attributes that contribute the most to the severity of accidents are 'Time', 'Latitude', and 'Location_Northing_OSGR'. In summary, this analysis provides us with further insight about how important the time of the day and location are to the severity of accidents.    \n"
   ]
  },
  {
   "cell_type": "markdown",
   "metadata": {},
   "source": [
    "### Question 4"
   ]
  },
  {
   "cell_type": "code",
   "execution_count": 160,
   "metadata": {},
   "outputs": [
    {
     "name": "stderr",
     "output_type": "stream",
     "text": [
      "C:\\Users\\jonat\\Anaconda3_64\\lib\\site-packages\\sklearn\\model_selection\\_split.py:605: Warning: The least populated class in y has only 1 members, which is too few. The minimum number of members in any class cannot be less than n_splits=3.\n",
      "  % (min_groups, self.n_splits)), Warning)\n",
      "C:\\Users\\jonat\\Anaconda3_64\\lib\\site-packages\\sklearn\\model_selection\\_split.py:605: Warning: The least populated class in y has only 1 members, which is too few. The minimum number of members in any class cannot be less than n_splits=3.\n",
      "  % (min_groups, self.n_splits)), Warning)\n"
     ]
    }
   ],
   "source": [
    "# Q: How well can we predict the nu  mber of casualties in an accident? What factors correlate most to accidents' casualties?\n",
    "ada_clf, rf_clf, rs_ada, rs_rf, ada_preds, rf_preds, X_train, y_test, X, y = fit_and_pred(new_data, 'Number_of_Casualties')"
   ]
  },
  {
   "cell_type": "code",
   "execution_count": 161,
   "metadata": {},
   "outputs": [
    {
     "name": "stdout",
     "output_type": "stream",
     "text": [
      "Accuracy score for AdaBoost is 0.7775246327973334.\n",
      "Accuracy score for RandomForest is 0.7857880663711952.\n",
      "\n"
     ]
    },
    {
     "name": "stderr",
     "output_type": "stream",
     "text": [
      "C:\\Users\\jonat\\Anaconda3_64\\lib\\site-packages\\sklearn\\model_selection\\_split.py:605: Warning: The least populated class in y has only 1 members, which is too few. The minimum number of members in any class cannot be less than n_splits=5.\n",
      "  % (min_groups, self.n_splits)), Warning)\n",
      "C:\\Users\\jonat\\Anaconda3_64\\lib\\site-packages\\sklearn\\model_selection\\_split.py:605: Warning: The least populated class in y has only 1 members, which is too few. The minimum number of members in any class cannot be less than n_splits=5.\n",
      "  % (min_groups, self.n_splits)), Warning)\n"
     ]
    },
    {
     "name": "stdout",
     "output_type": "stream",
     "text": [
      "CV scores for AdaBoost are [ 0.77652539  0.77655319  0.77674725  0.77679847  0.77682163].\n",
      "CV scores for RandomForest are [ 0.75907982  0.69931653  0.7579011   0.76670989  0.72544236].\n",
      "Mean CV score for AdaBoost is 0.7766891868743868.\n",
      "Mean CV score for RandomForest is 0.7416899400183347.\n"
     ]
    }
   ],
   "source": [
    "# Default cv = 3\n",
    "accuracy_cv_score(ada_clf, rf_clf, ada_preds, rf_preds, y_test, X, y, cv=5)"
   ]
  },
  {
   "cell_type": "code",
   "execution_count": 162,
   "metadata": {},
   "outputs": [
    {
     "data": {
      "image/png": "[encoded data removed]",
      "text/plain": [
       "<matplotlib.figure.Figure at 0x1a327f509e8>"
      ]
     },
     "metadata": {
      "needs_background": "light"
     },
     "output_type": "display_data"
    }
   ],
   "source": [
    "# Choosing AdaBoostClassifier as model\n",
    "# Default num_of_attri = 8\n",
    "feature_weights(rs_ada, X_train)"
   ]
  },
  {
   "cell_type": "markdown",
   "metadata": {},
   "source": [
    "### Answer for Question 4\n",
    "Similar to the procedure done in question 3, adaboost is chosen over random forest as the classifier for the analysis for this question, because of its consistency and its accuracy and cross validation score of 77.7% and 77.6% respectively. The bar graph above shows that the top 3 attributes that contribute the most to the number of casualties are 'Number_of_Vehicles', 'Accident_Severity', and 'Weather_Conditions_Fog or mist'. The results make sense, because the number of casualties or number of people involved in accidents are dependent on the number of vehicles involved in the accidents and the severity of the accidents. Also, if the weather is foggy or misty, there is a higher chance that drivers would not see passengers on the streets or the cars around them clearly.   "
   ]
  }
 ],
 "metadata": {
  "kernelspec": {
   "display_name": "Python 3",
   "language": "python",
   "name": "python3"
  },
  "language_info": {
   "codemirror_mode": {
    "name": "ipython",
    "version": 3
   },
   "file_extension": ".py",
   "mimetype": "text/x-python",
   "name": "python",
   "nbconvert_exporter": "python",
   "pygments_lexer": "ipython3",
   "version": "3.6.3"
  }
 },
 "nbformat": 4,
 "nbformat_minor": 1
}
